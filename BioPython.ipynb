{
 "cells": [
  {
   "cell_type": "markdown",
   "metadata": {},
   "source": [
    "# BioPython "
   ]
  },
  {
   "cell_type": "markdown",
   "metadata": {},
   "source": [
    "## By: Molly Davis "
   ]
  },
  {
   "cell_type": "markdown",
   "metadata": {},
   "source": [
    "## Email: mdavi258@uncc.edu"
   ]
  },
  {
   "cell_type": "markdown",
   "metadata": {},
   "source": [
    "------------"
   ]
  },
  {
   "cell_type": "markdown",
   "metadata": {},
   "source": [
    "## Step 1: Using SeqIO, read in and parse the file of apple primary transcripts (available on Canvas):\n",
    "    - During your parsing, create a list of only transcripts of length 125 or less\n",
    "    - Report the number of transcripts matching this criteria\n",
    "    - Translate these sequences to protein, make sure to save them to their own list"
   ]
  },
  {
   "cell_type": "code",
   "execution_count": 1,
   "metadata": {
    "scrolled": true
   },
   "outputs": [
    {
     "name": "stdout",
     "output_type": "stream",
     "text": [
      "Number of Available Sequences: \n",
      "45116\n",
      "Transcripts with a length of 125 or less: \n",
      "62\n"
     ]
    }
   ],
   "source": [
    "from Bio import SeqIO \n",
    "\n",
    "file = \"Mdomestica_491_v1.1.cds_primaryTranscriptOnly.fa\"\n",
    "parsed_data = list(SeqIO.parse(file, \"fasta\"))\n",
    "\n",
    "Sequences = []\n",
    "for rec in parsed_data:\n",
    "    Sequences.append(rec)\n",
    "print(\"Number of Available Sequences: \\n\" + str(len(Sequences))) \n",
    "\n",
    "short_sequences = []\n",
    "for newrec in Sequences:\n",
    "    if len(newrec.seq) <= 125:\n",
    "        short_sequences.append(newrec)\n",
    "print(\"Transcripts with a length of 125 or less: \\n\" + str(len(short_sequences)))\n",
    "\n",
    "protein_translate = []\n",
    "for prec in short_sequences:\n",
    "    trans = prec.translate()\n",
    "    protein_translate.append(str(trans.seq.strip(\"*\")))\n",
    "#print(\"\\nTranslation of short sequences to proteins: \\n\\n\" + str(protein_translate))"
   ]
  },
  {
   "cell_type": "markdown",
   "metadata": {},
   "source": [
    "## Step 2: Align our small proteins using pairwise2\n",
    "    - Align each protein to each other protein using the blosum62 scoring matrix, a gap opening penalty of -10, and a gap extension penalty of -0.5\n",
    "    - If an alignment scores better than 40, save it.\n",
    "    - Print the highest scoring pairwise alignment\n",
    "    - Take care in how you set up your loops for the pairwise alignments. Each alignment only needs to be done once. If you've already tested the alignment of seq1 vs seq5, don't align seq5 vs seq1.\n",
    "    "
   ]
  },
  {
   "cell_type": "code",
   "execution_count": 2,
   "metadata": {},
   "outputs": [
    {
     "name": "stdout",
     "output_type": "stream",
     "text": [
      "[Alignment(seqA='MNESWVFTTVQHAISNPNGKRQSLKLQPRSLLQSCMGKPL', seqB='MNESWVFTTVQHAISNPNGKRQSLKLQPRSLLQSCMGKPL', score=211.0, start=0, end=40)]\n",
      "MNESWVFTTVQHAISNPNGKRQSLKLQPRSLLQSCMGKPL\n",
      "||||||||||||||||||||||||||||||||||||||||\n",
      "MNESWVFTTVQHAISNPNGKRQSLKLQPRSLLQSCMGKPL\n",
      "  Score=211\n",
      "\n"
     ]
    }
   ],
   "source": [
    "from Bio import pairwise2\n",
    "from Bio.Align import substitution_matrices\n",
    "blosum62 = substitution_matrices.load(\"BLOSUM62\")\n",
    "from Bio import Align\n",
    "\n",
    "aligner= Align.PairwiseAligner() \n",
    "for i in range(0, len(protein_translate)):\n",
    "    for j in range(i+1, len(protein_translate)): \n",
    "        score= aligner.score(protein_translate[i], protein_translate[j])\n",
    "        if score >= 40:\n",
    "            alignments = pairwise2.align.globalds(protein_translate[i], protein_translate[j], blosum62, -10, -0.5)\n",
    "            print(alignments)\n",
    "            print(pairwise2.format_alignment(*alignments[0]))    "
   ]
  },
  {
   "cell_type": "markdown",
   "metadata": {},
   "source": [
    "## Step 3: Running BLAST and reading results\n",
    "     *Because we are doing a web BLAST, choose ONLY one sequence from our list of short proteins*.\n",
    "    - Run BLAST with your sequence against the NR database\n",
    "    - Parse the results. Report any HSPs with an E-value less than 0.05 and show the HSP alignments, including the name of the matching sequence. If no HSPs meet that criteria, report the highest scoring pair.\n",
    "    - If for whatever reason the sequence you selected fails to return any results, try a new one "
   ]
  },
  {
   "cell_type": "code",
   "execution_count": 3,
   "metadata": {},
   "outputs": [
    {
     "name": "stdout",
     "output_type": "stream",
     "text": [
      "****Alignment****\n",
      "sequence: gi|1632217597|ref|XR_003776463.1| PREDICTED: Malus domestica uncharacterized LOC114827259 (LOC114827259), ncRNA\n",
      "length: 391\n",
      "e value: 2.28428e-54\n",
      "ATGTACGGAGCAGGAGCTAAAGAAGATCTTCAACTATGTAGTGGTTGTCTTTGCACTTGTAGCGCTGAGGCACTG...\n",
      "|||||||||||||||||||||||||||||||||||||||||||||||||||||||||||||||||||||||||||...\n",
      "ATGTACGGAGCAGGAGCTAAAGAAGATCTTCAACTATGTAGTGGTTGTCTTTGCACTTGTAGCGCTGAGGCACTG...\n",
      "****Alignment****\n",
      "sequence: gi|1632217597|ref|XR_003776463.1| PREDICTED: Malus domestica uncharacterized LOC114827259 (LOC114827259), ncRNA\n",
      "length: 391\n",
      "e value: 2.61097e-09\n",
      "AGCGCTGAGGCACTGCAAATTCAAAGGAAGAGAAGAAGGGTTTATAACTTTCTATGTACGTAG...\n",
      "||| |||||||||  |||||||||||  || ||||||||||||| ||||||| ||||||| ||...\n",
      "AGCACTGAGGCACCACAAATTCAAAGAGAGCGAAGAAGGGTTTACAACTTTCGATGTACGGAG...\n",
      "****Alignment****\n",
      "sequence: gi|1732635877|ref|XM_030680407.1| PREDICTED: Rhodamnia argentea DIS3-like exonuclease 2 (LOC115744800), transcript variant X4, mRNA\n",
      "length: 4313\n",
      "e value: 0.0024454\n",
      "CAAATTCAAAGGAAGAGAAGA--AGGGTTTATAACTTTCTATG...\n",
      "|||| |||||||| |||||||  ||||||||||||||| ||||...\n",
      "CAAAATCAAAGGAGGAGAAGACTAGGGTTTATAACTTTATATG...\n",
      "****Alignment****\n",
      "sequence: gi|1732635875|ref|XM_030680340.1| PREDICTED: Rhodamnia argentea DIS3-like exonuclease 2 (LOC115744800), transcript variant X3, mRNA\n",
      "length: 4316\n",
      "e value: 0.0024454\n",
      "CAAATTCAAAGGAAGAGAAGA--AGGGTTTATAACTTTCTATG...\n",
      "|||| |||||||| |||||||  ||||||||||||||| ||||...\n",
      "CAAAATCAAAGGAGGAGAAGACTAGGGTTTATAACTTTATATG...\n",
      "****Alignment****\n",
      "sequence: gi|1732635873|ref|XM_030680269.1| PREDICTED: Rhodamnia argentea DIS3-like exonuclease 2 (LOC115744800), transcript variant X2, mRNA\n",
      "length: 4361\n",
      "e value: 0.0024454\n",
      "CAAATTCAAAGGAAGAGAAGA--AGGGTTTATAACTTTCTATG...\n",
      "|||| |||||||| |||||||  ||||||||||||||| ||||...\n",
      "CAAAATCAAAGGAGGAGAAGACTAGGGTTTATAACTTTATATG...\n",
      "****Alignment****\n",
      "sequence: gi|1732635871|ref|XM_030680196.1| PREDICTED: Rhodamnia argentea DIS3-like exonuclease 2 (LOC115744800), transcript variant X1, mRNA\n",
      "length: 4364\n",
      "e value: 0.0024454\n",
      "CAAATTCAAAGGAAGAGAAGA--AGGGTTTATAACTTTCTATG...\n",
      "|||| |||||||| |||||||  ||||||||||||||| ||||...\n",
      "CAAAATCAAAGGAGGAGAAGACTAGGGTTTATAACTTTATATG...\n"
     ]
    }
   ],
   "source": [
    "from Bio.Blast import NCBIWWW\n",
    "from Bio import SeqIO\n",
    "record = SeqIO.read(\"SingleSequence1.fasta\", format=\"fasta\")\n",
    "result_handle = NCBIWWW.qblast(\"blastn\", \"nt\", record.format(\"fasta\"))\n",
    "\n",
    "with open(\"my_blast.xml\", \"w\") as out_handle:\n",
    "    out_handle.write(result_handle.read())\n",
    "result_handle.close()\n",
    "result_handle = open(\"my_blast.xml\")\n",
    "from Bio.Blast import NCBIXML\n",
    "blast_records = NCBIXML.parse(result_handle)\n",
    "blast_record = next(blast_records)\n",
    "\n",
    "E_VALUE_THRESH = 0.05\n",
    "\n",
    "for alignment in blast_record.alignments:\n",
    "    for hsp in alignment.hsps:\n",
    "        if hsp.expect < E_VALUE_THRESH:\n",
    "            print(\"****Alignment****\")\n",
    "            print(\"sequence:\", alignment.title)\n",
    "            print(\"length:\", alignment.length)\n",
    "            print(\"e value:\", hsp.expect)\n",
    "            print(hsp.query[0:75] + \"...\")\n",
    "            print(hsp.match[0:75] + \"...\")\n",
    "            print(hsp.sbjct[0:75] + \"...\")"
   ]
  },
  {
   "cell_type": "code",
   "execution_count": null,
   "metadata": {},
   "outputs": [],
   "source": []
  }
 ],
 "metadata": {
  "kernelspec": {
   "display_name": "Python 3",
   "language": "python",
   "name": "python3"
  },
  "language_info": {
   "codemirror_mode": {
    "name": "ipython",
    "version": 3
   },
   "file_extension": ".py",
   "mimetype": "text/x-python",
   "name": "python",
   "nbconvert_exporter": "python",
   "pygments_lexer": "ipython3",
   "version": "3.8.8"
  }
 },
 "nbformat": 4,
 "nbformat_minor": 2
}
