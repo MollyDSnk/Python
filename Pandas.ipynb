{
 "cells": [
  {
   "cell_type": "markdown",
   "metadata": {},
   "source": [
    "# Pandas "
   ]
  },
  {
   "cell_type": "markdown",
   "metadata": {},
   "source": [
    "## By: Molly Davis "
   ]
  },
  {
   "cell_type": "markdown",
   "metadata": {},
   "source": [
    "## Email: mdavi258@uncc.edu"
   ]
  },
  {
   "cell_type": "markdown",
   "metadata": {},
   "source": [
    "-------"
   ]
  },
  {
   "cell_type": "markdown",
   "metadata": {},
   "source": [
    "The following CSV files in Part A & B consist of confirmed COVID cases and COVID deaths from 2020 to 2021 in the United States. Multiple questions are asked and answered with the use of PANDAS. The plots compare different states or counties to eachother over a certain amount of time."
   ]
  },
  {
   "cell_type": "markdown",
   "metadata": {},
   "source": [
    "## Part A "
   ]
  },
  {
   "cell_type": "markdown",
   "metadata": {},
   "source": [
    "Section 1: "
   ]
  },
  {
   "cell_type": "code",
   "execution_count": 1,
   "metadata": {
    "scrolled": true
   },
   "outputs": [
    {
     "data": {
      "text/html": [
       "<div>\n",
       "<style scoped>\n",
       "    .dataframe tbody tr th:only-of-type {\n",
       "        vertical-align: middle;\n",
       "    }\n",
       "\n",
       "    .dataframe tbody tr th {\n",
       "        vertical-align: top;\n",
       "    }\n",
       "\n",
       "    .dataframe thead th {\n",
       "        text-align: right;\n",
       "    }\n",
       "</style>\n",
       "<table border=\"1\" class=\"dataframe\">\n",
       "  <thead>\n",
       "    <tr style=\"text-align: right;\">\n",
       "      <th></th>\n",
       "      <th>iso2</th>\n",
       "      <th>iso3</th>\n",
       "      <th>code3</th>\n",
       "      <th>FIPS</th>\n",
       "      <th>Admin2</th>\n",
       "      <th>Province_State</th>\n",
       "      <th>Country_Region</th>\n",
       "      <th>Lat</th>\n",
       "      <th>Long_</th>\n",
       "      <th>Combined_Key</th>\n",
       "      <th>...</th>\n",
       "      <th>3/22/21</th>\n",
       "      <th>3/23/21</th>\n",
       "      <th>3/24/21</th>\n",
       "      <th>3/25/21</th>\n",
       "      <th>3/26/21</th>\n",
       "      <th>3/27/21</th>\n",
       "      <th>3/28/21</th>\n",
       "      <th>3/29/21</th>\n",
       "      <th>3/30/21</th>\n",
       "      <th>3/31/21</th>\n",
       "    </tr>\n",
       "    <tr>\n",
       "      <th>UID</th>\n",
       "      <th></th>\n",
       "      <th></th>\n",
       "      <th></th>\n",
       "      <th></th>\n",
       "      <th></th>\n",
       "      <th></th>\n",
       "      <th></th>\n",
       "      <th></th>\n",
       "      <th></th>\n",
       "      <th></th>\n",
       "      <th></th>\n",
       "      <th></th>\n",
       "      <th></th>\n",
       "      <th></th>\n",
       "      <th></th>\n",
       "      <th></th>\n",
       "      <th></th>\n",
       "      <th></th>\n",
       "      <th></th>\n",
       "      <th></th>\n",
       "      <th></th>\n",
       "    </tr>\n",
       "  </thead>\n",
       "  <tbody>\n",
       "    <tr>\n",
       "      <th>84001001</th>\n",
       "      <td>US</td>\n",
       "      <td>USA</td>\n",
       "      <td>840</td>\n",
       "      <td>1001.0</td>\n",
       "      <td>Autauga</td>\n",
       "      <td>Alabama</td>\n",
       "      <td>US</td>\n",
       "      <td>32.539527</td>\n",
       "      <td>-86.644082</td>\n",
       "      <td>Autauga, Alabama, US</td>\n",
       "      <td>...</td>\n",
       "      <td>6517</td>\n",
       "      <td>6525</td>\n",
       "      <td>6533</td>\n",
       "      <td>6540</td>\n",
       "      <td>6543</td>\n",
       "      <td>6562</td>\n",
       "      <td>6570</td>\n",
       "      <td>6577</td>\n",
       "      <td>6580</td>\n",
       "      <td>6589</td>\n",
       "    </tr>\n",
       "    <tr>\n",
       "      <th>84001003</th>\n",
       "      <td>US</td>\n",
       "      <td>USA</td>\n",
       "      <td>840</td>\n",
       "      <td>1003.0</td>\n",
       "      <td>Baldwin</td>\n",
       "      <td>Alabama</td>\n",
       "      <td>US</td>\n",
       "      <td>30.727750</td>\n",
       "      <td>-87.722071</td>\n",
       "      <td>Baldwin, Alabama, US</td>\n",
       "      <td>...</td>\n",
       "      <td>20361</td>\n",
       "      <td>20354</td>\n",
       "      <td>20395</td>\n",
       "      <td>20417</td>\n",
       "      <td>20423</td>\n",
       "      <td>20453</td>\n",
       "      <td>20473</td>\n",
       "      <td>20487</td>\n",
       "      <td>20492</td>\n",
       "      <td>20505</td>\n",
       "    </tr>\n",
       "    <tr>\n",
       "      <th>84001005</th>\n",
       "      <td>US</td>\n",
       "      <td>USA</td>\n",
       "      <td>840</td>\n",
       "      <td>1005.0</td>\n",
       "      <td>Barbour</td>\n",
       "      <td>Alabama</td>\n",
       "      <td>US</td>\n",
       "      <td>31.868263</td>\n",
       "      <td>-85.387129</td>\n",
       "      <td>Barbour, Alabama, US</td>\n",
       "      <td>...</td>\n",
       "      <td>2213</td>\n",
       "      <td>2213</td>\n",
       "      <td>2216</td>\n",
       "      <td>2218</td>\n",
       "      <td>2221</td>\n",
       "      <td>2224</td>\n",
       "      <td>2226</td>\n",
       "      <td>2226</td>\n",
       "      <td>2227</td>\n",
       "      <td>2227</td>\n",
       "    </tr>\n",
       "    <tr>\n",
       "      <th>84001007</th>\n",
       "      <td>US</td>\n",
       "      <td>USA</td>\n",
       "      <td>840</td>\n",
       "      <td>1007.0</td>\n",
       "      <td>Bibb</td>\n",
       "      <td>Alabama</td>\n",
       "      <td>US</td>\n",
       "      <td>32.996421</td>\n",
       "      <td>-87.125115</td>\n",
       "      <td>Bibb, Alabama, US</td>\n",
       "      <td>...</td>\n",
       "      <td>2529</td>\n",
       "      <td>2530</td>\n",
       "      <td>2535</td>\n",
       "      <td>2534</td>\n",
       "      <td>2535</td>\n",
       "      <td>2535</td>\n",
       "      <td>2536</td>\n",
       "      <td>2536</td>\n",
       "      <td>2537</td>\n",
       "      <td>2542</td>\n",
       "    </tr>\n",
       "    <tr>\n",
       "      <th>84001009</th>\n",
       "      <td>US</td>\n",
       "      <td>USA</td>\n",
       "      <td>840</td>\n",
       "      <td>1009.0</td>\n",
       "      <td>Blount</td>\n",
       "      <td>Alabama</td>\n",
       "      <td>US</td>\n",
       "      <td>33.982109</td>\n",
       "      <td>-86.567906</td>\n",
       "      <td>Blount, Alabama, US</td>\n",
       "      <td>...</td>\n",
       "      <td>6387</td>\n",
       "      <td>6388</td>\n",
       "      <td>6402</td>\n",
       "      <td>6408</td>\n",
       "      <td>6415</td>\n",
       "      <td>6420</td>\n",
       "      <td>6424</td>\n",
       "      <td>6426</td>\n",
       "      <td>6443</td>\n",
       "      <td>6444</td>\n",
       "    </tr>\n",
       "    <tr>\n",
       "      <th>...</th>\n",
       "      <td>...</td>\n",
       "      <td>...</td>\n",
       "      <td>...</td>\n",
       "      <td>...</td>\n",
       "      <td>...</td>\n",
       "      <td>...</td>\n",
       "      <td>...</td>\n",
       "      <td>...</td>\n",
       "      <td>...</td>\n",
       "      <td>...</td>\n",
       "      <td>...</td>\n",
       "      <td>...</td>\n",
       "      <td>...</td>\n",
       "      <td>...</td>\n",
       "      <td>...</td>\n",
       "      <td>...</td>\n",
       "      <td>...</td>\n",
       "      <td>...</td>\n",
       "      <td>...</td>\n",
       "      <td>...</td>\n",
       "      <td>...</td>\n",
       "    </tr>\n",
       "    <tr>\n",
       "      <th>84056039</th>\n",
       "      <td>US</td>\n",
       "      <td>USA</td>\n",
       "      <td>840</td>\n",
       "      <td>56039.0</td>\n",
       "      <td>Teton</td>\n",
       "      <td>Wyoming</td>\n",
       "      <td>US</td>\n",
       "      <td>43.935225</td>\n",
       "      <td>-110.589080</td>\n",
       "      <td>Teton, Wyoming, US</td>\n",
       "      <td>...</td>\n",
       "      <td>3530</td>\n",
       "      <td>3532</td>\n",
       "      <td>3547</td>\n",
       "      <td>3549</td>\n",
       "      <td>3562</td>\n",
       "      <td>3562</td>\n",
       "      <td>3562</td>\n",
       "      <td>3593</td>\n",
       "      <td>3593</td>\n",
       "      <td>3609</td>\n",
       "    </tr>\n",
       "    <tr>\n",
       "      <th>84056041</th>\n",
       "      <td>US</td>\n",
       "      <td>USA</td>\n",
       "      <td>840</td>\n",
       "      <td>56041.0</td>\n",
       "      <td>Uinta</td>\n",
       "      <td>Wyoming</td>\n",
       "      <td>US</td>\n",
       "      <td>41.287818</td>\n",
       "      <td>-110.547578</td>\n",
       "      <td>Uinta, Wyoming, US</td>\n",
       "      <td>...</td>\n",
       "      <td>2109</td>\n",
       "      <td>2111</td>\n",
       "      <td>2113</td>\n",
       "      <td>2115</td>\n",
       "      <td>2119</td>\n",
       "      <td>2119</td>\n",
       "      <td>2119</td>\n",
       "      <td>2123</td>\n",
       "      <td>2125</td>\n",
       "      <td>2128</td>\n",
       "    </tr>\n",
       "    <tr>\n",
       "      <th>84090056</th>\n",
       "      <td>US</td>\n",
       "      <td>USA</td>\n",
       "      <td>840</td>\n",
       "      <td>90056.0</td>\n",
       "      <td>Unassigned</td>\n",
       "      <td>Wyoming</td>\n",
       "      <td>US</td>\n",
       "      <td>0.000000</td>\n",
       "      <td>0.000000</td>\n",
       "      <td>Unassigned, Wyoming, US</td>\n",
       "      <td>...</td>\n",
       "      <td>0</td>\n",
       "      <td>0</td>\n",
       "      <td>0</td>\n",
       "      <td>0</td>\n",
       "      <td>0</td>\n",
       "      <td>0</td>\n",
       "      <td>0</td>\n",
       "      <td>0</td>\n",
       "      <td>0</td>\n",
       "      <td>0</td>\n",
       "    </tr>\n",
       "    <tr>\n",
       "      <th>84056043</th>\n",
       "      <td>US</td>\n",
       "      <td>USA</td>\n",
       "      <td>840</td>\n",
       "      <td>56043.0</td>\n",
       "      <td>Washakie</td>\n",
       "      <td>Wyoming</td>\n",
       "      <td>US</td>\n",
       "      <td>43.904516</td>\n",
       "      <td>-107.680187</td>\n",
       "      <td>Washakie, Wyoming, US</td>\n",
       "      <td>...</td>\n",
       "      <td>889</td>\n",
       "      <td>889</td>\n",
       "      <td>890</td>\n",
       "      <td>890</td>\n",
       "      <td>890</td>\n",
       "      <td>890</td>\n",
       "      <td>890</td>\n",
       "      <td>891</td>\n",
       "      <td>891</td>\n",
       "      <td>891</td>\n",
       "    </tr>\n",
       "    <tr>\n",
       "      <th>84056045</th>\n",
       "      <td>US</td>\n",
       "      <td>USA</td>\n",
       "      <td>840</td>\n",
       "      <td>56045.0</td>\n",
       "      <td>Weston</td>\n",
       "      <td>Wyoming</td>\n",
       "      <td>US</td>\n",
       "      <td>43.839612</td>\n",
       "      <td>-104.567488</td>\n",
       "      <td>Weston, Wyoming, US</td>\n",
       "      <td>...</td>\n",
       "      <td>631</td>\n",
       "      <td>632</td>\n",
       "      <td>632</td>\n",
       "      <td>632</td>\n",
       "      <td>632</td>\n",
       "      <td>632</td>\n",
       "      <td>632</td>\n",
       "      <td>632</td>\n",
       "      <td>632</td>\n",
       "      <td>633</td>\n",
       "    </tr>\n",
       "  </tbody>\n",
       "</table>\n",
       "<p>3340 rows × 445 columns</p>\n",
       "</div>"
      ],
      "text/plain": [
       "         iso2 iso3  code3     FIPS      Admin2 Province_State Country_Region  \\\n",
       "UID                                                                            \n",
       "84001001   US  USA    840   1001.0     Autauga        Alabama             US   \n",
       "84001003   US  USA    840   1003.0     Baldwin        Alabama             US   \n",
       "84001005   US  USA    840   1005.0     Barbour        Alabama             US   \n",
       "84001007   US  USA    840   1007.0        Bibb        Alabama             US   \n",
       "84001009   US  USA    840   1009.0      Blount        Alabama             US   \n",
       "...       ...  ...    ...      ...         ...            ...            ...   \n",
       "84056039   US  USA    840  56039.0       Teton        Wyoming             US   \n",
       "84056041   US  USA    840  56041.0       Uinta        Wyoming             US   \n",
       "84090056   US  USA    840  90056.0  Unassigned        Wyoming             US   \n",
       "84056043   US  USA    840  56043.0    Washakie        Wyoming             US   \n",
       "84056045   US  USA    840  56045.0      Weston        Wyoming             US   \n",
       "\n",
       "                Lat       Long_             Combined_Key  ...  3/22/21  \\\n",
       "UID                                                       ...            \n",
       "84001001  32.539527  -86.644082     Autauga, Alabama, US  ...     6517   \n",
       "84001003  30.727750  -87.722071     Baldwin, Alabama, US  ...    20361   \n",
       "84001005  31.868263  -85.387129     Barbour, Alabama, US  ...     2213   \n",
       "84001007  32.996421  -87.125115        Bibb, Alabama, US  ...     2529   \n",
       "84001009  33.982109  -86.567906      Blount, Alabama, US  ...     6387   \n",
       "...             ...         ...                      ...  ...      ...   \n",
       "84056039  43.935225 -110.589080       Teton, Wyoming, US  ...     3530   \n",
       "84056041  41.287818 -110.547578       Uinta, Wyoming, US  ...     2109   \n",
       "84090056   0.000000    0.000000  Unassigned, Wyoming, US  ...        0   \n",
       "84056043  43.904516 -107.680187    Washakie, Wyoming, US  ...      889   \n",
       "84056045  43.839612 -104.567488      Weston, Wyoming, US  ...      631   \n",
       "\n",
       "          3/23/21  3/24/21  3/25/21  3/26/21  3/27/21  3/28/21  3/29/21  \\\n",
       "UID                                                                       \n",
       "84001001     6525     6533     6540     6543     6562     6570     6577   \n",
       "84001003    20354    20395    20417    20423    20453    20473    20487   \n",
       "84001005     2213     2216     2218     2221     2224     2226     2226   \n",
       "84001007     2530     2535     2534     2535     2535     2536     2536   \n",
       "84001009     6388     6402     6408     6415     6420     6424     6426   \n",
       "...           ...      ...      ...      ...      ...      ...      ...   \n",
       "84056039     3532     3547     3549     3562     3562     3562     3593   \n",
       "84056041     2111     2113     2115     2119     2119     2119     2123   \n",
       "84090056        0        0        0        0        0        0        0   \n",
       "84056043      889      890      890      890      890      890      891   \n",
       "84056045      632      632      632      632      632      632      632   \n",
       "\n",
       "          3/30/21  3/31/21  \n",
       "UID                         \n",
       "84001001     6580     6589  \n",
       "84001003    20492    20505  \n",
       "84001005     2227     2227  \n",
       "84001007     2537     2542  \n",
       "84001009     6443     6444  \n",
       "...           ...      ...  \n",
       "84056039     3593     3609  \n",
       "84056041     2125     2128  \n",
       "84090056        0        0  \n",
       "84056043      891      891  \n",
       "84056045      632      633  \n",
       "\n",
       "[3340 rows x 445 columns]"
      ]
     },
     "execution_count": 1,
     "metadata": {},
     "output_type": "execute_result"
    }
   ],
   "source": [
    "import pandas as pd  \n",
    "COVID = pd.read_csv(\"/Users/mollydavis333/desktop/time_series_covid19_confirmed_US.csv\", index_col = \"UID\")\n",
    "COVID #Prints the original dataframe"
   ]
  },
  {
   "cell_type": "code",
   "execution_count": 2,
   "metadata": {
    "scrolled": true
   },
   "outputs": [],
   "source": [
    "COVID_states = COVID.groupby('Province_State').sum() #Combines all the counties from each state to just have state data."
   ]
  },
  {
   "cell_type": "markdown",
   "metadata": {},
   "source": [
    "-----------"
   ]
  },
  {
   "cell_type": "markdown",
   "metadata": {},
   "source": [
    "Question A. "
   ]
  },
  {
   "cell_type": "markdown",
   "metadata": {},
   "source": [
    "Which state/territory had the highest numerical increase in confirmed cases over the summer months (June 1st through August 31th)?"
   ]
  },
  {
   "cell_type": "code",
   "execution_count": 3,
   "metadata": {
    "scrolled": true
   },
   "outputs": [],
   "source": [
    "summer_COVID = COVID_states.loc[:, '6/1/20':'8/31/20'] #With the state data, the time frame was parsed. The time was the summer of 2020, which is when cases started rising quickly at the beginning of the pandemic.  "
   ]
  },
  {
   "cell_type": "code",
   "execution_count": 4,
   "metadata": {
    "scrolled": true
   },
   "outputs": [
    {
     "data": {
      "text/plain": [
       "<AxesSubplot:title={'center':'Top 5 Summer COVID Numerical Increase'}>"
      ]
     },
     "execution_count": 4,
     "metadata": {},
     "output_type": "execute_result"
    },
    {
     "data": {
      "image/png": "[encoded data removed]",
      "text/plain": [
       "<Figure size 432x288 with 1 Axes>"
      ]
     },
     "metadata": {},
     "output_type": "display_data"
    }
   ],
   "source": [
    "summer_difference = summer_COVID['8/31/20'] - summer_COVID['6/1/20'] #Takes the final cases from the original case number for each state to get the difference. \n",
    "summer_difference \n",
    "sort = summer_difference.sort_values(ascending=False) #Sorts the highest numerical increase and shows the States with the highest increase of COVID cases in that time period. \n",
    "sort[:5].plot.pie(title = \"Top 5 Summer COVID Numerical Increase\", ylabel = (\"\"), autopct=\"%.2f\") #Uses a Pie plot for the top 5 States from the sorted data. "
   ]
  },
  {
   "cell_type": "markdown",
   "metadata": {},
   "source": [
    "Pie Plot Discussion: The plot shows that California had the highest numerical increase over the Summer time period of 2020. Texas and Florida were not far behind having the same increase of confirmed cases.     "
   ]
  },
  {
   "cell_type": "markdown",
   "metadata": {},
   "source": [
    "------"
   ]
  },
  {
   "cell_type": "markdown",
   "metadata": {},
   "source": [
    "Question B. "
   ]
  },
  {
   "cell_type": "markdown",
   "metadata": {},
   "source": [
    "Which state/territory had the highest percentage increase in confirmed cases over the same time period?"
   ]
  },
  {
   "cell_type": "code",
   "execution_count": 5,
   "metadata": {
    "scrolled": false
   },
   "outputs": [
    {
     "data": {
      "text/plain": [
       "<AxesSubplot:title={'center':'Top 5 Highest and Lowest Summer COVID Percentage Increase'}, xlabel='Province_State', ylabel='Percent'>"
      ]
     },
     "execution_count": 5,
     "metadata": {},
     "output_type": "execute_result"
    },
    {
     "data": {
      "image/png": "[encoded data removed]",
      "text/plain": [
       "<Figure size 432x288 with 1 Axes>"
      ]
     },
     "metadata": {
      "needs_background": "light"
     },
     "output_type": "display_data"
    }
   ],
   "source": [
    "percent_state = summer_difference / summer_COVID['6/1/20'] * 100  #Calculates the percent increase of the states of the summer. \n",
    "percent_state\n",
    "sort_percent = percent_state.sort_values(ascending= False) #Sorts the states with the highest percentage increase.\n",
    "sort_percent.head(5).append(sort_percent[:-3].tail(5)).plot.bar(title = \"Top 5 Highest and Lowest Summer COVID Percentage Increase\", color = \"orange\", ylabel='Percent') #Uses a bar plot with the sorted data. Takes only the top 5 lowest and highest states. Removed the cruise chips for the bottom 5.   "
   ]
  },
  {
   "cell_type": "markdown",
   "metadata": {},
   "source": [
    "Bar Plot Discussion: Shows that the Virgin Islands had the highest percentage increase of COVID cases over the summer of 2020. The percentage shows the intensity of gained cases compared to other states. The plot includes the top 5 highest and top 5 lowest states to capitalize the drastic change.    "
   ]
  },
  {
   "cell_type": "markdown",
   "metadata": {},
   "source": [
    "-------"
   ]
  },
  {
   "cell_type": "markdown",
   "metadata": {},
   "source": [
    "Question C. "
   ]
  },
  {
   "cell_type": "markdown",
   "metadata": {},
   "source": [
    "What was the percentage increase in Mecklenburg Co. over the same time period? "
   ]
  },
  {
   "cell_type": "code",
   "execution_count": 6,
   "metadata": {
    "scrolled": false
   },
   "outputs": [
    {
     "data": {
      "text/plain": [
       "<AxesSubplot:title={'center':'Summer COVID Percentage Increase in Mecklenburg Co.'}, ylabel='Percent'>"
      ]
     },
     "execution_count": 6,
     "metadata": {},
     "output_type": "execute_result"
    },
    {
     "data": {
      "image/png": "[encoded data removed]",
      "text/plain": [
       "<Figure size 432x288 with 1 Axes>"
      ]
     },
     "metadata": {
      "needs_background": "light"
     },
     "output_type": "display_data"
    }
   ],
   "source": [
    "NC_index = COVID.set_index('Admin2') #Changes the Index so the county can be identified. Also the original database was used so counties could be used.  \n",
    "NC_index\n",
    "county = NC_index[NC_index.Combined_Key == \"Mecklenburg, North Carolina, US\"] #Finds the Combined_Key column so Mecklenburg can be parsed out.\n",
    "county\n",
    "county_diff = county[['6/1/20', '7/1/20', '8/1/20', '8/31/20']] - int(county['6/1/20']) #With the county data, the beginning of each summer date was found and each subtracted with the original number of cases to find the difference. int() was used so calculations could be made.   \n",
    "county_diff \n",
    "county_percent = county_diff / int(county['6/1/20']) * 100 #Calculates the percent increase of the counties cases over summer months.\n",
    "county_percent\n",
    "county_percent.T.plot.area(title = \"Summer COVID Percentage Increase in Mecklenburg Co.\", color = 'green', ylabel= 'Percent') #Uses a area plot so Mecklenburgs summer percent increase could be seen.  "
   ]
  },
  {
   "cell_type": "markdown",
   "metadata": {},
   "source": [
    "Area Plot Discussion: Shows the percentage increase of cases in Mecklenburg County over the summer months. From observation we can see that increased more drastically between July and August, which is when most families and college kids go on vacation or celebrate holidays like fourth of july.     "
   ]
  },
  {
   "cell_type": "markdown",
   "metadata": {},
   "source": [
    "--------"
   ]
  },
  {
   "cell_type": "markdown",
   "metadata": {},
   "source": [
    "Question D. "
   ]
  },
  {
   "cell_type": "markdown",
   "metadata": {},
   "source": [
    "Which County in NC had the highest percentage increase in confirmed cases over the same time period?"
   ]
  },
  {
   "cell_type": "code",
   "execution_count": 7,
   "metadata": {
    "scrolled": true
   },
   "outputs": [
    {
     "data": {
      "text/plain": [
       "<AxesSubplot:title={'center':'Top 5 Highest and Lowest NC County COVID Percentage Increase'}, ylabel='Combined_Key'>"
      ]
     },
     "execution_count": 7,
     "metadata": {},
     "output_type": "execute_result"
    },
    {
     "data": {
      "image/png": "[encoded data removed]",
      "text/plain": [
       "<Figure size 432x288 with 1 Axes>"
      ]
     },
     "metadata": {
      "needs_background": "light"
     },
     "output_type": "display_data"
    }
   ],
   "source": [
    "NC_index = COVID.set_index('Combined_Key') #Uses the original COVID database so counties can be used. Set the index to Combined_Key so County names will be seen when called on. \n",
    "NC_index\n",
    "NC_county = NC_index[NC_index.Province_State == \"North Carolina\"] #Finds all of the counties in North Carolina. \n",
    "NC_county\n",
    "NC_diff = NC_county['8/31/20'] - NC_county['6/1/20'] #Takes the numerical increase in cases for all NC counties between summer months. \n",
    "NC_diff\n",
    "NC_percent = NC_diff / NC_county['6/1/20'] * 100 #Calc. the percent increase for all NC counties  \n",
    "NC_percent\n",
    "NC_sort = NC_percent.sort_values(ascending=False) #Sorts the counties with the highest percent increase.\n",
    "NC_sort.head(5).append(NC_sort.tail(5)).plot.barh(title = \"Top 5 Highest and Lowest NC County COVID Percentage Increase\", color = 'pink') #Makes a horizontal bar plot which shows the top 5 highest and lowest county percent increase. "
   ]
  },
  {
   "cell_type": "markdown",
   "metadata": {},
   "source": [
    "Horizontal Bar Plot Discussion: Shows that Hyde county in North Carolina had the highest percentage increase in COVID cases over the summer months. Compared to other counties this is a huge percentage increase.   "
   ]
  },
  {
   "cell_type": "markdown",
   "metadata": {},
   "source": [
    "------"
   ]
  },
  {
   "cell_type": "markdown",
   "metadata": {},
   "source": [
    "Section 2:\n",
    "\n",
    "Question A. "
   ]
  },
  {
   "cell_type": "markdown",
   "metadata": {},
   "source": [
    "What proportion of cases nationally had occurred in NY State at the start of each month, from March 2020 to August 2020? "
   ]
  },
  {
   "cell_type": "code",
   "execution_count": 8,
   "metadata": {
    "scrolled": true
   },
   "outputs": [],
   "source": [
    "monthly_COVID = COVID_states[['3/1/20','4/1/20', '5/1/20', '6/1/20', '7/1/20', '8/1/20']] #Uses the States database made and parses out a specific day of each month chosen.   \n",
    "monthly_COVID  \n",
    "total = monthly_COVID[['3/1/20','4/1/20', '5/1/20', '6/1/20', '7/1/20', '8/1/20']].sum() #Takes the sum for all of the states for each date. \n",
    "calc_all = monthly_COVID[['3/1/20','4/1/20', '5/1/20', '6/1/20', '7/1/20', '8/1/20']] / total * 100 #Calcs. the percent proportion of each state compared to the sum of all states. "
   ]
  },
  {
   "cell_type": "code",
   "execution_count": 9,
   "metadata": {
    "scrolled": true
   },
   "outputs": [
    {
     "data": {
      "text/plain": [
       "<AxesSubplot:title={'center':'Proportion of NY cases to Top States'}, ylabel='Percent'>"
      ]
     },
     "execution_count": 9,
     "metadata": {},
     "output_type": "execute_result"
    },
    {
     "data": {
      "image/png": "[encoded data removed]",
      "text/plain": [
       "<Figure size 432x288 with 1 Axes>"
      ]
     },
     "metadata": {
      "needs_background": "light"
     },
     "output_type": "display_data"
    }
   ],
   "source": [
    "new_york_pro = calc_all.loc[['New York', 'Washington', 'Texas', 'California', 'Florida']] #Takes just the New York proportion and other states that were high in proportion to compare data.\n",
    "new_york_pro.T.plot.bar(title = 'Proportion of NY cases to Top States', stacked = True, ylabel='Percent') #Makes a stacked bar plot of the selected states to compare the proportion for each date selected.   "
   ]
  },
  {
   "cell_type": "markdown",
   "metadata": {},
   "source": [
    "Stacked Bar Plot Discussion: The figure depicts New York and how COVID cases skyrocket in April of 2020. But over time took control and got cases to drop again over time, while other states were consistantly an issue. "
   ]
  },
  {
   "cell_type": "code",
   "execution_count": 10,
   "metadata": {
    "scrolled": false
   },
   "outputs": [
    {
     "data": {
      "text/plain": [
       "array([<AxesSubplot:title={'center':'New York'}, ylabel='Percent'>,\n",
       "       <AxesSubplot:title={'center':'Washington'}, ylabel='Percent'>,\n",
       "       <AxesSubplot:title={'center':'Texas'}, ylabel='Percent'>,\n",
       "       <AxesSubplot:title={'center':'California'}, ylabel='Percent'>,\n",
       "       <AxesSubplot:title={'center':'Florida'}, ylabel='Percent'>],\n",
       "      dtype=object)"
      ]
     },
     "execution_count": 10,
     "metadata": {},
     "output_type": "execute_result"
    },
    {
     "data": {
      "image/png": "[encoded data removed]",
      "text/plain": [
       "<Figure size 648x792 with 5 Axes>"
      ]
     },
     "metadata": {
      "needs_background": "light"
     },
     "output_type": "display_data"
    }
   ],
   "source": [
    "new_york_pro.T.plot.bar(title = 'Proportion of NY cases to Top States', subplots = True, figsize=(9, 11), ylabel='Percent')"
   ]
  },
  {
   "cell_type": "markdown",
   "metadata": {},
   "source": [
    "Subplot Discussion: This plot is another way to view the case trend for New York compared to other states. New York made up almost 50% of cases in April 2020 and over time handled COVID better. While other states continued to struggle with COVID over multiple months.   "
   ]
  },
  {
   "cell_type": "markdown",
   "metadata": {},
   "source": [
    "------"
   ]
  },
  {
   "cell_type": "markdown",
   "metadata": {},
   "source": [
    "## Part B"
   ]
  },
  {
   "cell_type": "markdown",
   "metadata": {},
   "source": [
    "The cases dataset used before will be used in part B as well. When looking at both dataframes we see that the US_deaths dataset extends to 4/26/21. So we must make the dataframe the same time length (3/31/21) to ensure accurate results.   "
   ]
  },
  {
   "cell_type": "code",
   "execution_count": 11,
   "metadata": {
    "scrolled": true
   },
   "outputs": [
    {
     "data": {
      "text/html": [
       "<div>\n",
       "<style scoped>\n",
       "    .dataframe tbody tr th:only-of-type {\n",
       "        vertical-align: middle;\n",
       "    }\n",
       "\n",
       "    .dataframe tbody tr th {\n",
       "        vertical-align: top;\n",
       "    }\n",
       "\n",
       "    .dataframe thead th {\n",
       "        text-align: right;\n",
       "    }\n",
       "</style>\n",
       "<table border=\"1\" class=\"dataframe\">\n",
       "  <thead>\n",
       "    <tr style=\"text-align: right;\">\n",
       "      <th></th>\n",
       "      <th>iso2</th>\n",
       "      <th>iso3</th>\n",
       "      <th>code3</th>\n",
       "      <th>FIPS</th>\n",
       "      <th>Admin2</th>\n",
       "      <th>Province_State</th>\n",
       "      <th>Country_Region</th>\n",
       "      <th>Lat</th>\n",
       "      <th>Long_</th>\n",
       "      <th>Combined_Key</th>\n",
       "      <th>...</th>\n",
       "      <th>4/17/21</th>\n",
       "      <th>4/18/21</th>\n",
       "      <th>4/19/21</th>\n",
       "      <th>4/20/21</th>\n",
       "      <th>4/21/21</th>\n",
       "      <th>4/22/21</th>\n",
       "      <th>4/23/21</th>\n",
       "      <th>4/24/21</th>\n",
       "      <th>4/25/21</th>\n",
       "      <th>4/26/21</th>\n",
       "    </tr>\n",
       "    <tr>\n",
       "      <th>UID</th>\n",
       "      <th></th>\n",
       "      <th></th>\n",
       "      <th></th>\n",
       "      <th></th>\n",
       "      <th></th>\n",
       "      <th></th>\n",
       "      <th></th>\n",
       "      <th></th>\n",
       "      <th></th>\n",
       "      <th></th>\n",
       "      <th></th>\n",
       "      <th></th>\n",
       "      <th></th>\n",
       "      <th></th>\n",
       "      <th></th>\n",
       "      <th></th>\n",
       "      <th></th>\n",
       "      <th></th>\n",
       "      <th></th>\n",
       "      <th></th>\n",
       "      <th></th>\n",
       "    </tr>\n",
       "  </thead>\n",
       "  <tbody>\n",
       "    <tr>\n",
       "      <th>84001001</th>\n",
       "      <td>US</td>\n",
       "      <td>USA</td>\n",
       "      <td>840</td>\n",
       "      <td>1001.0</td>\n",
       "      <td>Autauga</td>\n",
       "      <td>Alabama</td>\n",
       "      <td>US</td>\n",
       "      <td>32.539527</td>\n",
       "      <td>-86.644082</td>\n",
       "      <td>Autauga, Alabama, US</td>\n",
       "      <td>...</td>\n",
       "      <td>106</td>\n",
       "      <td>106</td>\n",
       "      <td>106</td>\n",
       "      <td>106</td>\n",
       "      <td>107</td>\n",
       "      <td>107</td>\n",
       "      <td>107</td>\n",
       "      <td>107</td>\n",
       "      <td>107</td>\n",
       "      <td>107</td>\n",
       "    </tr>\n",
       "    <tr>\n",
       "      <th>84001003</th>\n",
       "      <td>US</td>\n",
       "      <td>USA</td>\n",
       "      <td>840</td>\n",
       "      <td>1003.0</td>\n",
       "      <td>Baldwin</td>\n",
       "      <td>Alabama</td>\n",
       "      <td>US</td>\n",
       "      <td>30.727750</td>\n",
       "      <td>-87.722071</td>\n",
       "      <td>Baldwin, Alabama, US</td>\n",
       "      <td>...</td>\n",
       "      <td>302</td>\n",
       "      <td>302</td>\n",
       "      <td>302</td>\n",
       "      <td>302</td>\n",
       "      <td>302</td>\n",
       "      <td>303</td>\n",
       "      <td>303</td>\n",
       "      <td>305</td>\n",
       "      <td>305</td>\n",
       "      <td>305</td>\n",
       "    </tr>\n",
       "    <tr>\n",
       "      <th>84001005</th>\n",
       "      <td>US</td>\n",
       "      <td>USA</td>\n",
       "      <td>840</td>\n",
       "      <td>1005.0</td>\n",
       "      <td>Barbour</td>\n",
       "      <td>Alabama</td>\n",
       "      <td>US</td>\n",
       "      <td>31.868263</td>\n",
       "      <td>-85.387129</td>\n",
       "      <td>Barbour, Alabama, US</td>\n",
       "      <td>...</td>\n",
       "      <td>55</td>\n",
       "      <td>55</td>\n",
       "      <td>55</td>\n",
       "      <td>55</td>\n",
       "      <td>55</td>\n",
       "      <td>56</td>\n",
       "      <td>56</td>\n",
       "      <td>56</td>\n",
       "      <td>56</td>\n",
       "      <td>56</td>\n",
       "    </tr>\n",
       "    <tr>\n",
       "      <th>84001007</th>\n",
       "      <td>US</td>\n",
       "      <td>USA</td>\n",
       "      <td>840</td>\n",
       "      <td>1007.0</td>\n",
       "      <td>Bibb</td>\n",
       "      <td>Alabama</td>\n",
       "      <td>US</td>\n",
       "      <td>32.996421</td>\n",
       "      <td>-87.125115</td>\n",
       "      <td>Bibb, Alabama, US</td>\n",
       "      <td>...</td>\n",
       "      <td>61</td>\n",
       "      <td>61</td>\n",
       "      <td>61</td>\n",
       "      <td>61</td>\n",
       "      <td>61</td>\n",
       "      <td>62</td>\n",
       "      <td>62</td>\n",
       "      <td>62</td>\n",
       "      <td>62</td>\n",
       "      <td>62</td>\n",
       "    </tr>\n",
       "    <tr>\n",
       "      <th>84001009</th>\n",
       "      <td>US</td>\n",
       "      <td>USA</td>\n",
       "      <td>840</td>\n",
       "      <td>1009.0</td>\n",
       "      <td>Blount</td>\n",
       "      <td>Alabama</td>\n",
       "      <td>US</td>\n",
       "      <td>33.982109</td>\n",
       "      <td>-86.567906</td>\n",
       "      <td>Blount, Alabama, US</td>\n",
       "      <td>...</td>\n",
       "      <td>133</td>\n",
       "      <td>133</td>\n",
       "      <td>133</td>\n",
       "      <td>133</td>\n",
       "      <td>133</td>\n",
       "      <td>133</td>\n",
       "      <td>134</td>\n",
       "      <td>134</td>\n",
       "      <td>134</td>\n",
       "      <td>134</td>\n",
       "    </tr>\n",
       "    <tr>\n",
       "      <th>...</th>\n",
       "      <td>...</td>\n",
       "      <td>...</td>\n",
       "      <td>...</td>\n",
       "      <td>...</td>\n",
       "      <td>...</td>\n",
       "      <td>...</td>\n",
       "      <td>...</td>\n",
       "      <td>...</td>\n",
       "      <td>...</td>\n",
       "      <td>...</td>\n",
       "      <td>...</td>\n",
       "      <td>...</td>\n",
       "      <td>...</td>\n",
       "      <td>...</td>\n",
       "      <td>...</td>\n",
       "      <td>...</td>\n",
       "      <td>...</td>\n",
       "      <td>...</td>\n",
       "      <td>...</td>\n",
       "      <td>...</td>\n",
       "      <td>...</td>\n",
       "    </tr>\n",
       "    <tr>\n",
       "      <th>84056039</th>\n",
       "      <td>US</td>\n",
       "      <td>USA</td>\n",
       "      <td>840</td>\n",
       "      <td>56039.0</td>\n",
       "      <td>Teton</td>\n",
       "      <td>Wyoming</td>\n",
       "      <td>US</td>\n",
       "      <td>43.935225</td>\n",
       "      <td>-110.589080</td>\n",
       "      <td>Teton, Wyoming, US</td>\n",
       "      <td>...</td>\n",
       "      <td>9</td>\n",
       "      <td>9</td>\n",
       "      <td>9</td>\n",
       "      <td>9</td>\n",
       "      <td>9</td>\n",
       "      <td>9</td>\n",
       "      <td>9</td>\n",
       "      <td>9</td>\n",
       "      <td>9</td>\n",
       "      <td>9</td>\n",
       "    </tr>\n",
       "    <tr>\n",
       "      <th>84056041</th>\n",
       "      <td>US</td>\n",
       "      <td>USA</td>\n",
       "      <td>840</td>\n",
       "      <td>56041.0</td>\n",
       "      <td>Uinta</td>\n",
       "      <td>Wyoming</td>\n",
       "      <td>US</td>\n",
       "      <td>41.287818</td>\n",
       "      <td>-110.547578</td>\n",
       "      <td>Uinta, Wyoming, US</td>\n",
       "      <td>...</td>\n",
       "      <td>12</td>\n",
       "      <td>12</td>\n",
       "      <td>12</td>\n",
       "      <td>12</td>\n",
       "      <td>12</td>\n",
       "      <td>12</td>\n",
       "      <td>12</td>\n",
       "      <td>12</td>\n",
       "      <td>12</td>\n",
       "      <td>12</td>\n",
       "    </tr>\n",
       "    <tr>\n",
       "      <th>84090056</th>\n",
       "      <td>US</td>\n",
       "      <td>USA</td>\n",
       "      <td>840</td>\n",
       "      <td>90056.0</td>\n",
       "      <td>Unassigned</td>\n",
       "      <td>Wyoming</td>\n",
       "      <td>US</td>\n",
       "      <td>0.000000</td>\n",
       "      <td>0.000000</td>\n",
       "      <td>Unassigned, Wyoming, US</td>\n",
       "      <td>...</td>\n",
       "      <td>0</td>\n",
       "      <td>0</td>\n",
       "      <td>0</td>\n",
       "      <td>0</td>\n",
       "      <td>0</td>\n",
       "      <td>0</td>\n",
       "      <td>0</td>\n",
       "      <td>0</td>\n",
       "      <td>0</td>\n",
       "      <td>0</td>\n",
       "    </tr>\n",
       "    <tr>\n",
       "      <th>84056043</th>\n",
       "      <td>US</td>\n",
       "      <td>USA</td>\n",
       "      <td>840</td>\n",
       "      <td>56043.0</td>\n",
       "      <td>Washakie</td>\n",
       "      <td>Wyoming</td>\n",
       "      <td>US</td>\n",
       "      <td>43.904516</td>\n",
       "      <td>-107.680187</td>\n",
       "      <td>Washakie, Wyoming, US</td>\n",
       "      <td>...</td>\n",
       "      <td>26</td>\n",
       "      <td>26</td>\n",
       "      <td>26</td>\n",
       "      <td>26</td>\n",
       "      <td>26</td>\n",
       "      <td>26</td>\n",
       "      <td>26</td>\n",
       "      <td>26</td>\n",
       "      <td>26</td>\n",
       "      <td>26</td>\n",
       "    </tr>\n",
       "    <tr>\n",
       "      <th>84056045</th>\n",
       "      <td>US</td>\n",
       "      <td>USA</td>\n",
       "      <td>840</td>\n",
       "      <td>56045.0</td>\n",
       "      <td>Weston</td>\n",
       "      <td>Wyoming</td>\n",
       "      <td>US</td>\n",
       "      <td>43.839612</td>\n",
       "      <td>-104.567488</td>\n",
       "      <td>Weston, Wyoming, US</td>\n",
       "      <td>...</td>\n",
       "      <td>5</td>\n",
       "      <td>5</td>\n",
       "      <td>5</td>\n",
       "      <td>5</td>\n",
       "      <td>5</td>\n",
       "      <td>5</td>\n",
       "      <td>5</td>\n",
       "      <td>5</td>\n",
       "      <td>5</td>\n",
       "      <td>5</td>\n",
       "    </tr>\n",
       "  </tbody>\n",
       "</table>\n",
       "<p>3342 rows × 472 columns</p>\n",
       "</div>"
      ],
      "text/plain": [
       "         iso2 iso3  code3     FIPS      Admin2 Province_State Country_Region  \\\n",
       "UID                                                                            \n",
       "84001001   US  USA    840   1001.0     Autauga        Alabama             US   \n",
       "84001003   US  USA    840   1003.0     Baldwin        Alabama             US   \n",
       "84001005   US  USA    840   1005.0     Barbour        Alabama             US   \n",
       "84001007   US  USA    840   1007.0        Bibb        Alabama             US   \n",
       "84001009   US  USA    840   1009.0      Blount        Alabama             US   \n",
       "...       ...  ...    ...      ...         ...            ...            ...   \n",
       "84056039   US  USA    840  56039.0       Teton        Wyoming             US   \n",
       "84056041   US  USA    840  56041.0       Uinta        Wyoming             US   \n",
       "84090056   US  USA    840  90056.0  Unassigned        Wyoming             US   \n",
       "84056043   US  USA    840  56043.0    Washakie        Wyoming             US   \n",
       "84056045   US  USA    840  56045.0      Weston        Wyoming             US   \n",
       "\n",
       "                Lat       Long_             Combined_Key  ...  4/17/21  \\\n",
       "UID                                                       ...            \n",
       "84001001  32.539527  -86.644082     Autauga, Alabama, US  ...      106   \n",
       "84001003  30.727750  -87.722071     Baldwin, Alabama, US  ...      302   \n",
       "84001005  31.868263  -85.387129     Barbour, Alabama, US  ...       55   \n",
       "84001007  32.996421  -87.125115        Bibb, Alabama, US  ...       61   \n",
       "84001009  33.982109  -86.567906      Blount, Alabama, US  ...      133   \n",
       "...             ...         ...                      ...  ...      ...   \n",
       "84056039  43.935225 -110.589080       Teton, Wyoming, US  ...        9   \n",
       "84056041  41.287818 -110.547578       Uinta, Wyoming, US  ...       12   \n",
       "84090056   0.000000    0.000000  Unassigned, Wyoming, US  ...        0   \n",
       "84056043  43.904516 -107.680187    Washakie, Wyoming, US  ...       26   \n",
       "84056045  43.839612 -104.567488      Weston, Wyoming, US  ...        5   \n",
       "\n",
       "          4/18/21  4/19/21  4/20/21  4/21/21  4/22/21  4/23/21  4/24/21  \\\n",
       "UID                                                                       \n",
       "84001001      106      106      106      107      107      107      107   \n",
       "84001003      302      302      302      302      303      303      305   \n",
       "84001005       55       55       55       55       56       56       56   \n",
       "84001007       61       61       61       61       62       62       62   \n",
       "84001009      133      133      133      133      133      134      134   \n",
       "...           ...      ...      ...      ...      ...      ...      ...   \n",
       "84056039        9        9        9        9        9        9        9   \n",
       "84056041       12       12       12       12       12       12       12   \n",
       "84090056        0        0        0        0        0        0        0   \n",
       "84056043       26       26       26       26       26       26       26   \n",
       "84056045        5        5        5        5        5        5        5   \n",
       "\n",
       "          4/25/21  4/26/21  \n",
       "UID                         \n",
       "84001001      107      107  \n",
       "84001003      305      305  \n",
       "84001005       56       56  \n",
       "84001007       62       62  \n",
       "84001009      134      134  \n",
       "...           ...      ...  \n",
       "84056039        9        9  \n",
       "84056041       12       12  \n",
       "84090056        0        0  \n",
       "84056043       26       26  \n",
       "84056045        5        5  \n",
       "\n",
       "[3342 rows x 472 columns]"
      ]
     },
     "execution_count": 11,
     "metadata": {},
     "output_type": "execute_result"
    }
   ],
   "source": [
    "US_deaths = pd.read_csv(\"/Users/mollydavis333/desktop/US_deaths.csv\", index_col = \"UID\") #CSV file of COVID deaths over a specific time.\n",
    "US_deaths"
   ]
  },
  {
   "cell_type": "markdown",
   "metadata": {},
   "source": [
    "------"
   ]
  },
  {
   "cell_type": "markdown",
   "metadata": {},
   "source": [
    "Question 1. Which state proportionally had the most COVID deaths compared to COVID cases on the final date 3/31/21?           "
   ]
  },
  {
   "cell_type": "code",
   "execution_count": 12,
   "metadata": {
    "scrolled": false
   },
   "outputs": [
    {
     "data": {
      "text/plain": [
       "<AxesSubplot:title={'center':'Percent of Deaths to Cases in US States'}, xlabel='Province_State', ylabel='Percent'>"
      ]
     },
     "execution_count": 12,
     "metadata": {},
     "output_type": "execute_result"
    },
    {
     "data": {
      "image/png": "[encoded data removed]",
      "text/plain": [
       "<Figure size 432x288 with 1 Axes>"
      ]
     },
     "metadata": {
      "needs_background": "light"
     },
     "output_type": "display_data"
    }
   ],
   "source": [
    "US_death_state = US_deaths.groupby('Province_State').sum() #Groups the states together so there's no more counties just states.\n",
    "US_death_state\n",
    "US_death_range_state = US_death_state['3/31/21'] #Finds the specific column date in death dataframe.  \n",
    "US_death_range_state\n",
    "\n",
    "US_cases_range_state = COVID_states['3/31/21'] #Finds the specific column date in cases dataframe.\n",
    "US_cases_range_state\n",
    "\n",
    "state_proportion =  US_death_range_state / US_cases_range_state * 100 #Calculates the percent of deaths from the amount of cases.\n",
    "\n",
    "sort_state = state_proportion.sort_values(ascending=False) #Orders all of the percent proportions to find the highest numbers first. \n",
    "sort_state[1:6].head(5).append(sort_state[:-2].tail(5)).plot.bar(title = \"Percent of Deaths to Cases in US States\", ylabel=\"Percent\", color= \"tan\") #Didn't include the first option because it was a cruise ship not a state. "
   ]
  },
  {
   "cell_type": "markdown",
   "metadata": {},
   "source": [
    "Bar Plot Discussion: It's important to acknowledge that the data was calculated just on the single final date and doesn't include other dates that might have had a larger percentage. For example, if we looked at a different time, the percent might be higher for a different state. But we use the final date in the data because we want the proportion for all time not just on one day that could have been bad.      "
   ]
  },
  {
   "cell_type": "markdown",
   "metadata": {},
   "source": [
    "--------"
   ]
  },
  {
   "cell_type": "markdown",
   "metadata": {},
   "source": [
    "Question 2. Within the highest state, which County has the highest proportion of deaths compared to cases on the final date 3/31/21?"
   ]
  },
  {
   "cell_type": "code",
   "execution_count": 13,
   "metadata": {
    "scrolled": true
   },
   "outputs": [
    {
     "data": {
      "text/plain": [
       "<AxesSubplot:title={'center':' Top 5 Massachusetts Counties with High Death Rates'}>"
      ]
     },
     "execution_count": 13,
     "metadata": {},
     "output_type": "execute_result"
    },
    {
     "data": {
      "image/png": "[encoded data removed]",
      "text/plain": [
       "<Figure size 432x288 with 1 Axes>"
      ]
     },
     "metadata": {},
     "output_type": "display_data"
    }
   ],
   "source": [
    "death_index = US_deaths.set_index('Combined_Key') #Changes the index in deaths dataframe so county names can be identified.\n",
    "death_index\n",
    "mass_county = death_index[death_index.Province_State == \"Massachusetts\"] #Chooses all of the Massachusetts counties.\n",
    "mass_county\n",
    "mass_county_range = mass_county['3/31/21'] #All the counties deaths on the specific date. \n",
    "mass_county_range\n",
    "\n",
    "cases_index = COVID.set_index('Combined_Key') #Changes index for cases dataframe.  \n",
    "cases_index\n",
    "cases_county = cases_index[cases_index.Province_State == \"Massachusetts\"] #Chooses all of the Massachusetts counties in cases dataframe. \n",
    "cases_county\n",
    "cases_county_range = cases_county['3/31/21'] #All the counties cases on the specific date.\n",
    "cases_county_range\n",
    "\n",
    "county_proportion = mass_county_range / cases_county_range * 100 #Calculates the counties death percent compared with cases. \n",
    "sort_county = county_proportion.sort_values(ascending=False) #Sorts the counties percents and gives the highest first. \n",
    "sort_county[0:5].plot.pie(title = \" Top 5 Massachusetts Counties with High Death Rates\" , ylabel = (\"\"), autopct=\"%.2f\") #Plots the data and just shows the top 5 counties."
   ]
  },
  {
   "cell_type": "markdown",
   "metadata": {},
   "source": [
    "Pie Plot Discussion: The plot shows the percent of which Massachusetts county had the highest percentage of COVID deaths to cases. The other counties are about the same as Berkshire county which indicates that all of Massachusetts was largely affected by COVID deaths. "
   ]
  },
  {
   "cell_type": "markdown",
   "metadata": {},
   "source": [
    "-------"
   ]
  },
  {
   "cell_type": "markdown",
   "metadata": {},
   "source": [
    "Question 3. Within the highest County, at what time period were deaths compared to cases proportionally the highest? "
   ]
  },
  {
   "cell_type": "code",
   "execution_count": 14,
   "metadata": {},
   "outputs": [],
   "source": [
    "mass_index_deaths = US_deaths.set_index('Admin2') #Sets the index to all the counties in death dataframe.     \n",
    "mass_county_deaths = mass_index_deaths[mass_index_deaths.Combined_Key == \"Berkshire, Massachusetts, US\"].loc[:, '1/22/20':'3/31/21'] #Finds Berkshire specifically in death dataframe and creates the time frame to use.  \n",
    "\n",
    "mass_index_cases = COVID.set_index('Admin2')  \n",
    "mass_county_cases = mass_index_cases[mass_index_cases.Combined_Key == \"Berkshire, Massachusetts, US\"].loc[:, '1/22/20':'3/31/21'] #Finds Berkshire specifically in cases dataframe and creates the time frame to use. "
   ]
  },
  {
   "cell_type": "code",
   "execution_count": 15,
   "metadata": {},
   "outputs": [
    {
     "data": {
      "text/plain": [
       "<AxesSubplot:title={'center':'Berkshire, Massachusetts COVID Death Rates Compared to Cases'}, ylabel='Percent'>"
      ]
     },
     "execution_count": 15,
     "metadata": {},
     "output_type": "execute_result"
    },
    {
     "data": {
      "image/png": "[encoded data removed]",
      "text/plain": [
       "<Figure size 432x288 with 1 Axes>"
      ]
     },
     "metadata": {
      "needs_background": "light"
     },
     "output_type": "display_data"
    }
   ],
   "source": [
    "berk_time_proportion = mass_county_deaths / mass_county_cases * 100 #Calculates the percent of deaths to cases in the county over the time period. \n",
    "berk_time_proportion.T.plot.area(title = \"Berkshire, Massachusetts COVID Death Rates Compared to Cases\", color = \"salmon\", ylabel = \"Percent\") #Plots the Proportions and shows the largest changes over the time range. "
   ]
  },
  {
   "cell_type": "markdown",
   "metadata": {},
   "source": [
    "Area Plot Discussion: This data is somewhat alarming for the Berkshire community. We see that during the beginning of Summer 2020 COVID deaths were extremely high proportionally compared to COVID cases. By understanding the population and geography of the state it might shed light on the deaths that have been occuring. It was determined that 16.5% of the population is 65 and older. Geographically, the state is right next to New York, which saw a huge jump in cases in April 2020. Berkshire had .02 deaths per 1,000 people. The New York and Seattle metropolitan areas had .03 deaths per 1,000 people. So research confirms that the plot above is accurate and that Berkshire has a continuous issue of deaths and cases of COVID-19. \n",
    "\n",
    "https://commonwealthmagazine.org/health-care/berkshire-county-a-covid-19-hotspot/\n",
    "\n",
    "https://www.prb.org/which-us-states-are-the-oldest/"
   ]
  },
  {
   "cell_type": "code",
   "execution_count": null,
   "metadata": {},
   "outputs": [],
   "source": []
  }
 ],
 "metadata": {
  "kernelspec": {
   "display_name": "Python 3",
   "language": "python",
   "name": "python3"
  },
  "language_info": {
   "codemirror_mode": {
    "name": "ipython",
    "version": 3
   },
   "file_extension": ".py",
   "mimetype": "text/x-python",
   "name": "python",
   "nbconvert_exporter": "python",
   "pygments_lexer": "ipython3",
   "version": "3.8.8"
  }
 },
 "nbformat": 4,
 "nbformat_minor": 4
}
