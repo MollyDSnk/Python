{
 "cells": [
  {
   "cell_type": "markdown",
   "metadata": {},
   "source": [
    "# Object Oriented Programming"
   ]
  },
  {
   "cell_type": "markdown",
   "metadata": {},
   "source": [
    "## By: Molly Davis "
   ]
  },
  {
   "cell_type": "markdown",
   "metadata": {},
   "source": [
    "## Email: mdavi258@uncc.edu"
   ]
  },
  {
   "cell_type": "markdown",
   "metadata": {},
   "source": [
    "The following program uses objects. A class called 'Sequence' was made to hold the sequence of bases once file is parsed through and create an object. Another function/method was added to the class. Then a SequenceRecord class was made and takes two arguments. A generator was made to parse through a FASTA file and use the SequenceRecord. Objects can be called and presented however you would like.      "
   ]
  },
  {
   "cell_type": "code",
   "execution_count": 1,
   "metadata": {},
   "outputs": [
    {
     "name": "stdout",
     "output_type": "stream",
     "text": [
      "The sequence length is: 10\n",
      "The original sequence is: ATGCGTAGC\n",
      "The complementary sequence is: TACGCATCG\n"
     ]
    }
   ],
   "source": [
    "class Sequence:\n",
    "    def __init__(self,name):\n",
    "        self.name = name\n",
    "    def length(self):\n",
    "        print(\"The sequence length is: \" + str(len(self.name)))\n",
    "    def complementary(self):\n",
    "        compSeq = \"\"\n",
    "        for i in range(0,len(self.name)): \n",
    "            if self.name[i] == \"A\":\n",
    "                compSeq = compSeq + \"T\"\n",
    "            elif self.name[i] == \"T\":\n",
    "                compSeq = compSeq + \"A\"\n",
    "            elif self.name[i] == \"G\":\n",
    "                compSeq = compSeq + \"C\"\n",
    "            elif self.name[i] == \"C\":\n",
    "                compSeq = compSeq + \"G\"\n",
    "            else:\n",
    "                compSeq += \"N\" #check for invalid bases matched with N\n",
    "                print(\"Invalid base match\")\n",
    "        print(\"The original sequence is: \" + self.name)\n",
    "        print(\"The complementary sequence is: \" + compSeq)\n",
    "\n",
    "\n",
    "sequences= Sequence(\"ATGCGTAGC\")\n",
    "sequences.length()                       \n",
    "comp= Sequence(\"ATGCGTAGC\")\n",
    "comp.complementary() "
   ]
  },
  {
   "cell_type": "code",
   "execution_count": 2,
   "metadata": {},
   "outputs": [],
   "source": [
    "class SequenceRecord:\n",
    "    def __init__(self,header,sequence):\n",
    "        check= isinstance(sequence,Sequence)\n",
    "        print(check)\n",
    "        if check:\n",
    "            self.header = header\n",
    "            self.sequence = sequence\n",
    "            print(\"The object is usable!\")\n",
    "        else:\n",
    "            print(\"The following is not a usable object!\")\n",
    "            quit(0)\n",
    "\n",
    "    def __repr__(self):\n",
    "        return str(self.header)+\"\\n\"+str(self.sequence)"
   ]
  },
  {
   "cell_type": "code",
   "execution_count": 3,
   "metadata": {},
   "outputs": [],
   "source": [
    "def parsing(file):\n",
    "    count = 0\n",
    "    sequence = \"\"\n",
    "    for line in file:\n",
    "        if count == 0:\n",
    "            if line[0] == \">\":\n",
    "                header = line[:-1]\n",
    "                count += 1\n",
    "        else:\n",
    "            if line[0] == \">\":\n",
    "                seqobject = Sequence(sequence)\n",
    "                secrec = SequenceRecord(header,seqobject)\n",
    "                yield secrec\n",
    "                count += 1\n",
    "                sequence = \"\"\n",
    "                header = line[:-1]\n",
    "            else: sequence += line\n",
    "   "
   ]
  },
  {
   "cell_type": "code",
   "execution_count": 4,
   "metadata": {},
   "outputs": [
    {
     "name": "stdout",
     "output_type": "stream",
     "text": [
      "True\n",
      "The object is usable!\n",
      ">MD10G1276500 pacid=40089867 polypeptide=MD10G1276500 locus=MD10G1276500 ID=MD10G1276500.v1.1.491 annot-version=v1.1\n",
      "<__main__.Sequence object at 0x107aaf700>\n",
      "True\n",
      "The object is usable!\n",
      ">MD10G1110200 pacid=40089868 polypeptide=MD10G1110200 locus=MD10G1110200 ID=MD10G1110200.v1.1.491 annot-version=v1.1\n",
      "<__main__.Sequence object at 0x107b501c0>\n",
      "True\n",
      "The object is usable!\n",
      ">MD10G1036500 pacid=40089869 polypeptide=MD10G1036500 locus=MD10G1036500 ID=MD10G1036500.v1.1.491 annot-version=v1.1\n",
      "<__main__.Sequence object at 0x107b50310>\n"
     ]
    }
   ],
   "source": [
    "file = open(\"/Users/mollydavis333/desktop/FASTA.fa\")\n",
    "for base in parsing(file):\n",
    "    print(base.header)\n",
    "    print(base.sequence)"
   ]
  },
  {
   "cell_type": "code",
   "execution_count": null,
   "metadata": {},
   "outputs": [],
   "source": []
  }
 ],
 "metadata": {
  "kernelspec": {
   "display_name": "Python 3",
   "language": "python",
   "name": "python3"
  },
  "language_info": {
   "codemirror_mode": {
    "name": "ipython",
    "version": 3
   },
   "file_extension": ".py",
   "mimetype": "text/x-python",
   "name": "python",
   "nbconvert_exporter": "python",
   "pygments_lexer": "ipython3",
   "version": "3.8.8"
  }
 },
 "nbformat": 4,
 "nbformat_minor": 4
}
